{
 "cells": [
  {
   "cell_type": "code",
   "execution_count": 4,
   "id": "d5a331b3",
   "metadata": {},
   "outputs": [],
   "source": [
    "def mat(a, f, n): #Заполнение матрицы \n",
    "    \n",
    "    for i in range(n):\n",
    "        for j in range(n):\n",
    "            if(i==(n-1)):\n",
    "                a[i][j]=2\n",
    "            elif(i == j): \n",
    "                a[i][j] = i+11\n",
    "            elif((i==(j+1)) or (i==(j-1))): \n",
    "                a[i][j] = 1.\n",
    "            else: \n",
    "                a[i][j] = 0.\n",
    "        f[i] = i/n; \n",
    "    f[0]=1\n",
    "    a[n-1][0] = 1\n",
    "    a[n-1][n-1] = 1\n",
    "    \n",
    "def gauss(a, b, x, m): #Метод Гаусса\n",
    "    for k in range(m):#x\n",
    "        ikx = a[0][k]\n",
    "        for i in range(m):\n",
    "            ik = a[i][k]/ikx\n",
    "            for j in range(m):\n",
    "                a[i][j] = a[i][j]+ik*a[i][j]\n",
    "            b[i]= b[i]+ik\n",
    "\n",
    "                \n",
    "n = 99+1;\n",
    "a = [0] * n\n",
    "for i in range(n): \n",
    "    a[i] = [0] * n\n",
    "b = [0] * n\n",
    "x = [0] * n\n",
    "mat(a, b, n)\n",
    "gauss(a,b,x,n)\n"
   ]
  },
  {
   "cell_type": "code",
   "execution_count": 5,
   "id": "7f53597f",
   "metadata": {},
   "outputs": [],
   "source": [
    "# "
   ]
  },
  {
   "cell_type": "code",
   "execution_count": null,
   "id": "b17003b0",
   "metadata": {},
   "outputs": [],
   "source": []
  }
 ],
 "metadata": {
  "kernelspec": {
   "display_name": "Python 3 (ipykernel)",
   "language": "python",
   "name": "python3"
  },
  "language_info": {
   "codemirror_mode": {
    "name": "ipython",
    "version": 3
   },
   "file_extension": ".py",
   "mimetype": "text/x-python",
   "name": "python",
   "nbconvert_exporter": "python",
   "pygments_lexer": "ipython3",
   "version": "3.11.1"
  }
 },
 "nbformat": 4,
 "nbformat_minor": 5
}
